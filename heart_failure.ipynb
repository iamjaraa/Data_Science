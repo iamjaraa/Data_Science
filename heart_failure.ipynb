{
 "cells": [
  {
   "cell_type": "code",
   "execution_count": 21,
   "metadata": {},
   "outputs": [],
   "source": [
    "#Import the relevant libraries\n",
    "\n",
    "import pandas as pd\n",
    "import numpy as np\n",
    "import tensorflow as tf\n",
    "import seaborn as sns\n",
    "import matplotlib.pyplot as plt\n",
    "from random import randint,gauss\n",
    "from itertools import cycle\n",
    "from sklearn.model_selection import cross_validate\n",
    "from sklearn.model_selection import train_test_split"
   ]
  },
  {
   "cell_type": "code",
   "execution_count": 22,
   "metadata": {},
   "outputs": [],
   "source": [
    "#Load the dataset\n",
    "\n",
    "heart_data = pd.read_csv('heart_failure.csv')"
   ]
  },
  {
   "cell_type": "code",
   "execution_count": 23,
   "metadata": {},
   "outputs": [
    {
     "data": {
      "text/html": [
       "<div>\n",
       "<style scoped>\n",
       "    .dataframe tbody tr th:only-of-type {\n",
       "        vertical-align: middle;\n",
       "    }\n",
       "\n",
       "    .dataframe tbody tr th {\n",
       "        vertical-align: top;\n",
       "    }\n",
       "\n",
       "    .dataframe thead th {\n",
       "        text-align: right;\n",
       "    }\n",
       "</style>\n",
       "<table border=\"1\" class=\"dataframe\">\n",
       "  <thead>\n",
       "    <tr style=\"text-align: right;\">\n",
       "      <th></th>\n",
       "      <th>age</th>\n",
       "      <th>anaemia</th>\n",
       "      <th>creatinine_phosphokinase</th>\n",
       "      <th>diabetes</th>\n",
       "      <th>ejection_fraction</th>\n",
       "      <th>high_blood_pressure</th>\n",
       "      <th>platelets</th>\n",
       "      <th>serum_creatinine</th>\n",
       "      <th>serum_sodium</th>\n",
       "      <th>sex</th>\n",
       "      <th>smoking</th>\n",
       "      <th>time</th>\n",
       "      <th>DEATH_EVENT</th>\n",
       "    </tr>\n",
       "  </thead>\n",
       "  <tbody>\n",
       "    <tr>\n",
       "      <th>0</th>\n",
       "      <td>75.0</td>\n",
       "      <td>0</td>\n",
       "      <td>582</td>\n",
       "      <td>0</td>\n",
       "      <td>20</td>\n",
       "      <td>1</td>\n",
       "      <td>265000.00</td>\n",
       "      <td>1.9</td>\n",
       "      <td>130</td>\n",
       "      <td>1</td>\n",
       "      <td>0</td>\n",
       "      <td>4</td>\n",
       "      <td>1</td>\n",
       "    </tr>\n",
       "    <tr>\n",
       "      <th>1</th>\n",
       "      <td>55.0</td>\n",
       "      <td>0</td>\n",
       "      <td>7861</td>\n",
       "      <td>0</td>\n",
       "      <td>38</td>\n",
       "      <td>0</td>\n",
       "      <td>263358.03</td>\n",
       "      <td>1.1</td>\n",
       "      <td>136</td>\n",
       "      <td>1</td>\n",
       "      <td>0</td>\n",
       "      <td>6</td>\n",
       "      <td>1</td>\n",
       "    </tr>\n",
       "    <tr>\n",
       "      <th>2</th>\n",
       "      <td>65.0</td>\n",
       "      <td>0</td>\n",
       "      <td>146</td>\n",
       "      <td>0</td>\n",
       "      <td>20</td>\n",
       "      <td>0</td>\n",
       "      <td>162000.00</td>\n",
       "      <td>1.3</td>\n",
       "      <td>129</td>\n",
       "      <td>1</td>\n",
       "      <td>1</td>\n",
       "      <td>7</td>\n",
       "      <td>1</td>\n",
       "    </tr>\n",
       "    <tr>\n",
       "      <th>3</th>\n",
       "      <td>50.0</td>\n",
       "      <td>1</td>\n",
       "      <td>111</td>\n",
       "      <td>0</td>\n",
       "      <td>20</td>\n",
       "      <td>0</td>\n",
       "      <td>210000.00</td>\n",
       "      <td>1.9</td>\n",
       "      <td>137</td>\n",
       "      <td>1</td>\n",
       "      <td>0</td>\n",
       "      <td>7</td>\n",
       "      <td>1</td>\n",
       "    </tr>\n",
       "    <tr>\n",
       "      <th>4</th>\n",
       "      <td>65.0</td>\n",
       "      <td>1</td>\n",
       "      <td>160</td>\n",
       "      <td>1</td>\n",
       "      <td>20</td>\n",
       "      <td>0</td>\n",
       "      <td>327000.00</td>\n",
       "      <td>2.7</td>\n",
       "      <td>116</td>\n",
       "      <td>0</td>\n",
       "      <td>0</td>\n",
       "      <td>8</td>\n",
       "      <td>1</td>\n",
       "    </tr>\n",
       "    <tr>\n",
       "      <th>...</th>\n",
       "      <td>...</td>\n",
       "      <td>...</td>\n",
       "      <td>...</td>\n",
       "      <td>...</td>\n",
       "      <td>...</td>\n",
       "      <td>...</td>\n",
       "      <td>...</td>\n",
       "      <td>...</td>\n",
       "      <td>...</td>\n",
       "      <td>...</td>\n",
       "      <td>...</td>\n",
       "      <td>...</td>\n",
       "      <td>...</td>\n",
       "    </tr>\n",
       "    <tr>\n",
       "      <th>294</th>\n",
       "      <td>62.0</td>\n",
       "      <td>0</td>\n",
       "      <td>61</td>\n",
       "      <td>1</td>\n",
       "      <td>38</td>\n",
       "      <td>1</td>\n",
       "      <td>155000.00</td>\n",
       "      <td>1.1</td>\n",
       "      <td>143</td>\n",
       "      <td>1</td>\n",
       "      <td>1</td>\n",
       "      <td>270</td>\n",
       "      <td>0</td>\n",
       "    </tr>\n",
       "    <tr>\n",
       "      <th>295</th>\n",
       "      <td>55.0</td>\n",
       "      <td>0</td>\n",
       "      <td>1820</td>\n",
       "      <td>0</td>\n",
       "      <td>38</td>\n",
       "      <td>0</td>\n",
       "      <td>270000.00</td>\n",
       "      <td>1.2</td>\n",
       "      <td>139</td>\n",
       "      <td>0</td>\n",
       "      <td>0</td>\n",
       "      <td>271</td>\n",
       "      <td>0</td>\n",
       "    </tr>\n",
       "    <tr>\n",
       "      <th>296</th>\n",
       "      <td>45.0</td>\n",
       "      <td>0</td>\n",
       "      <td>2060</td>\n",
       "      <td>1</td>\n",
       "      <td>60</td>\n",
       "      <td>0</td>\n",
       "      <td>742000.00</td>\n",
       "      <td>0.8</td>\n",
       "      <td>138</td>\n",
       "      <td>0</td>\n",
       "      <td>0</td>\n",
       "      <td>278</td>\n",
       "      <td>0</td>\n",
       "    </tr>\n",
       "    <tr>\n",
       "      <th>297</th>\n",
       "      <td>45.0</td>\n",
       "      <td>0</td>\n",
       "      <td>2413</td>\n",
       "      <td>0</td>\n",
       "      <td>38</td>\n",
       "      <td>0</td>\n",
       "      <td>140000.00</td>\n",
       "      <td>1.4</td>\n",
       "      <td>140</td>\n",
       "      <td>1</td>\n",
       "      <td>1</td>\n",
       "      <td>280</td>\n",
       "      <td>0</td>\n",
       "    </tr>\n",
       "    <tr>\n",
       "      <th>298</th>\n",
       "      <td>50.0</td>\n",
       "      <td>0</td>\n",
       "      <td>196</td>\n",
       "      <td>0</td>\n",
       "      <td>45</td>\n",
       "      <td>0</td>\n",
       "      <td>395000.00</td>\n",
       "      <td>1.6</td>\n",
       "      <td>136</td>\n",
       "      <td>1</td>\n",
       "      <td>1</td>\n",
       "      <td>285</td>\n",
       "      <td>0</td>\n",
       "    </tr>\n",
       "  </tbody>\n",
       "</table>\n",
       "<p>299 rows × 13 columns</p>\n",
       "</div>"
      ],
      "text/plain": [
       "      age  anaemia  creatinine_phosphokinase  diabetes  ejection_fraction  \\\n",
       "0    75.0        0                       582         0                 20   \n",
       "1    55.0        0                      7861         0                 38   \n",
       "2    65.0        0                       146         0                 20   \n",
       "3    50.0        1                       111         0                 20   \n",
       "4    65.0        1                       160         1                 20   \n",
       "..    ...      ...                       ...       ...                ...   \n",
       "294  62.0        0                        61         1                 38   \n",
       "295  55.0        0                      1820         0                 38   \n",
       "296  45.0        0                      2060         1                 60   \n",
       "297  45.0        0                      2413         0                 38   \n",
       "298  50.0        0                       196         0                 45   \n",
       "\n",
       "     high_blood_pressure  platelets  serum_creatinine  serum_sodium  sex  \\\n",
       "0                      1  265000.00               1.9           130    1   \n",
       "1                      0  263358.03               1.1           136    1   \n",
       "2                      0  162000.00               1.3           129    1   \n",
       "3                      0  210000.00               1.9           137    1   \n",
       "4                      0  327000.00               2.7           116    0   \n",
       "..                   ...        ...               ...           ...  ...   \n",
       "294                    1  155000.00               1.1           143    1   \n",
       "295                    0  270000.00               1.2           139    0   \n",
       "296                    0  742000.00               0.8           138    0   \n",
       "297                    0  140000.00               1.4           140    1   \n",
       "298                    0  395000.00               1.6           136    1   \n",
       "\n",
       "     smoking  time  DEATH_EVENT  \n",
       "0          0     4            1  \n",
       "1          0     6            1  \n",
       "2          1     7            1  \n",
       "3          0     7            1  \n",
       "4          0     8            1  \n",
       "..       ...   ...          ...  \n",
       "294        1   270            0  \n",
       "295        0   271            0  \n",
       "296        0   278            0  \n",
       "297        1   280            0  \n",
       "298        1   285            0  \n",
       "\n",
       "[299 rows x 13 columns]"
      ]
     },
     "execution_count": 23,
     "metadata": {},
     "output_type": "execute_result"
    }
   ],
   "source": [
    "heart_data"
   ]
  },
  {
   "cell_type": "code",
   "execution_count": 124,
   "metadata": {},
   "outputs": [],
   "source": [
    "#Death_Event: 1 = Not Dead, 0 = Not dead\n",
    "\n",
    "#Study the data to gain insights"
   ]
  },
  {
   "cell_type": "code",
   "execution_count": 125,
   "metadata": {},
   "outputs": [
    {
     "data": {
      "text/plain": [
       "(299, 13)"
      ]
     },
     "execution_count": 125,
     "metadata": {},
     "output_type": "execute_result"
    }
   ],
   "source": [
    "heart_data.shape"
   ]
  },
  {
   "cell_type": "code",
   "execution_count": 26,
   "metadata": {},
   "outputs": [
    {
     "data": {
      "text/plain": [
       "age                         float64\n",
       "anaemia                       int64\n",
       "creatinine_phosphokinase      int64\n",
       "diabetes                      int64\n",
       "ejection_fraction             int64\n",
       "high_blood_pressure           int64\n",
       "platelets                   float64\n",
       "serum_creatinine            float64\n",
       "serum_sodium                  int64\n",
       "sex                           int64\n",
       "smoking                       int64\n",
       "time                          int64\n",
       "DEATH_EVENT                   int64\n",
       "dtype: object"
      ]
     },
     "execution_count": 26,
     "metadata": {},
     "output_type": "execute_result"
    }
   ],
   "source": [
    "heart_data.dtypes"
   ]
  },
  {
   "cell_type": "code",
   "execution_count": 27,
   "metadata": {},
   "outputs": [],
   "source": [
    "#Sort the data into independent and dependent variables."
   ]
  },
  {
   "cell_type": "code",
   "execution_count": 76,
   "metadata": {},
   "outputs": [],
   "source": [
    "X = heart_data.iloc[:, :-1].values"
   ]
  },
  {
   "cell_type": "code",
   "execution_count": 77,
   "metadata": {},
   "outputs": [
    {
     "data": {
      "text/plain": [
       "array([[7.500e+01, 0.000e+00, 5.820e+02, ..., 1.000e+00, 0.000e+00,\n",
       "        4.000e+00],\n",
       "       [5.500e+01, 0.000e+00, 7.861e+03, ..., 1.000e+00, 0.000e+00,\n",
       "        6.000e+00],\n",
       "       [6.500e+01, 0.000e+00, 1.460e+02, ..., 1.000e+00, 1.000e+00,\n",
       "        7.000e+00],\n",
       "       ...,\n",
       "       [4.500e+01, 0.000e+00, 2.060e+03, ..., 0.000e+00, 0.000e+00,\n",
       "        2.780e+02],\n",
       "       [4.500e+01, 0.000e+00, 2.413e+03, ..., 1.000e+00, 1.000e+00,\n",
       "        2.800e+02],\n",
       "       [5.000e+01, 0.000e+00, 1.960e+02, ..., 1.000e+00, 1.000e+00,\n",
       "        2.850e+02]])"
      ]
     },
     "execution_count": 77,
     "metadata": {},
     "output_type": "execute_result"
    }
   ],
   "source": [
    "X"
   ]
  },
  {
   "cell_type": "code",
   "execution_count": 78,
   "metadata": {},
   "outputs": [],
   "source": [
    "y = heart_data.iloc[:,-1].values"
   ]
  },
  {
   "cell_type": "code",
   "execution_count": 79,
   "metadata": {},
   "outputs": [
    {
     "data": {
      "text/plain": [
       "array([1, 1, 1, 1, 1, 1, 1, 1, 1, 1, 1, 1, 1, 1, 0, 1, 1, 1, 1, 1, 0, 1,\n",
       "       1, 0, 1, 1, 1, 1, 1, 1, 1, 1, 1, 0, 1, 1, 1, 1, 0, 1, 1, 1, 1, 0,\n",
       "       1, 1, 1, 1, 1, 1, 1, 1, 1, 1, 1, 1, 0, 0, 1, 1, 1, 1, 0, 1, 0, 1,\n",
       "       1, 1, 1, 1, 0, 0, 1, 0, 1, 1, 0, 0, 0, 0, 0, 0, 1, 0, 1, 0, 0, 0,\n",
       "       0, 0, 0, 0, 0, 1, 0, 0, 0, 0, 0, 0, 0, 0, 0, 0, 0, 1, 0, 0, 0, 0,\n",
       "       1, 0, 0, 1, 0, 0, 0, 0, 0, 1, 0, 0, 0, 0, 1, 0, 1, 0, 0, 0, 0, 0,\n",
       "       0, 0, 0, 0, 0, 0, 0, 0, 1, 0, 0, 0, 1, 0, 0, 0, 1, 0, 1, 0, 0, 0,\n",
       "       0, 0, 0, 0, 0, 0, 0, 0, 0, 1, 1, 1, 0, 1, 0, 0, 0, 0, 0, 0, 0, 0,\n",
       "       0, 0, 0, 0, 0, 1, 1, 1, 1, 1, 1, 1, 0, 0, 0, 0, 0, 0, 1, 1, 0, 0,\n",
       "       0, 0, 0, 0, 0, 0, 0, 0, 0, 0, 0, 0, 0, 0, 0, 1, 0, 0, 0, 1, 0, 0,\n",
       "       1, 0, 0, 0, 0, 0, 0, 0, 0, 0, 1, 0, 0, 0, 0, 0, 0, 0, 0, 0, 0, 0,\n",
       "       0, 0, 0, 0, 1, 0, 0, 0, 0, 0, 0, 0, 0, 0, 0, 0, 0, 0, 0, 0, 1, 0,\n",
       "       0, 0, 1, 0, 0, 0, 0, 0, 0, 0, 0, 0, 0, 0, 0, 0, 0, 0, 0, 0, 0, 0,\n",
       "       0, 0, 0, 0, 0, 0, 0, 0, 0, 0, 0, 0, 0], dtype=int64)"
      ]
     },
     "execution_count": 79,
     "metadata": {},
     "output_type": "execute_result"
    }
   ],
   "source": [
    "y"
   ]
  },
  {
   "cell_type": "code",
   "execution_count": 80,
   "metadata": {},
   "outputs": [],
   "source": [
    "#Split the data into training and test set"
   ]
  },
  {
   "cell_type": "code",
   "execution_count": 103,
   "metadata": {},
   "outputs": [],
   "source": [
    "\n",
    "X_train, X_test, y_train, y_test = train_test_split(X, y, test_size=0.20, random_state=0)"
   ]
  },
  {
   "cell_type": "code",
   "execution_count": 104,
   "metadata": {
    "scrolled": true
   },
   "outputs": [
    {
     "data": {
      "text/plain": [
       "array([[8.10e+01, 0.00e+00, 4.54e+03, ..., 1.00e+00, 1.00e+00, 1.07e+02],\n",
       "       [5.00e+01, 0.00e+00, 1.85e+02, ..., 1.00e+00, 1.00e+00, 1.12e+02],\n",
       "       [4.50e+01, 0.00e+00, 5.82e+02, ..., 1.00e+00, 0.00e+00, 6.10e+01],\n",
       "       ...,\n",
       "       [8.50e+01, 1.00e+00, 1.02e+02, ..., 0.00e+00, 0.00e+00, 9.40e+01],\n",
       "       [6.00e+01, 0.00e+00, 5.82e+02, ..., 1.00e+00, 1.00e+00, 4.00e+01],\n",
       "       [7.00e+01, 1.00e+00, 1.71e+02, ..., 1.00e+00, 1.00e+00, 1.46e+02]])"
      ]
     },
     "execution_count": 104,
     "metadata": {},
     "output_type": "execute_result"
    }
   ],
   "source": [
    "X_train"
   ]
  },
  {
   "cell_type": "code",
   "execution_count": 105,
   "metadata": {},
   "outputs": [],
   "source": [
    "#Create a boxplot plot"
   ]
  },
  {
   "cell_type": "code",
   "execution_count": 106,
   "metadata": {},
   "outputs": [
    {
     "data": {
      "image/png": "[encoded data removed]",
      "text/plain": [
       "<Figure size 432x288 with 1 Axes>"
      ]
     },
     "metadata": {},
     "output_type": "display_data"
    }
   ],
   "source": [
    "box_plot = pd.DataFrame(heart_data,columns = ['diabetes','age','DEATH_EVENT'])\n",
    "box_plot\n",
    "\n",
    "ax = sns.boxplot(x=\"diabetes\", y=\"age\", data=box_plot) \n",
    "# RUN PLOT   \n",
    "plt.show()\n",
    " "
   ]
  },
  {
   "cell_type": "code",
   "execution_count": 107,
   "metadata": {},
   "outputs": [],
   "source": [
    "#Create a scatter Plot of the rejection_fraction against age"
   ]
  },
  {
   "cell_type": "code",
   "execution_count": 139,
   "metadata": {},
   "outputs": [
    {
     "data": {
      "text/plain": [
       "<matplotlib.axes._subplots.AxesSubplot at 0x256dca44488>"
      ]
     },
     "execution_count": 139,
     "metadata": {},
     "output_type": "execute_result"
    },
    {
     "data": {
      "image/png": "[encoded data removed]",
      "text/plain": [
       "<Figure size 432x288 with 1 Axes>"
      ]
     },
     "metadata": {},
     "output_type": "display_data"
    }
   ],
   "source": [
    "sns.set()\n",
    "\n",
    "scatter_box = pd.DataFrame(heart_data, columns = ['ejection_fraction','age','DEATH_EVENT'])\n",
    "sns.scatterplot(x =\"ejection_fraction\", y=\"age\", data=scatter_box,hue = 'DEATH_EVENT')"
   ]
  },
  {
   "cell_type": "code",
   "execution_count": 109,
   "metadata": {},
   "outputs": [],
   "source": [
    "#Feature Scaling"
   ]
  },
  {
   "cell_type": "code",
   "execution_count": 110,
   "metadata": {},
   "outputs": [],
   "source": [
    "from sklearn.preprocessing import StandardScaler\n",
    "sc = StandardScaler()\n",
    "X_train = sc.fit_transform(X_train)\n",
    "X_test = sc.fit_transform(X_test)"
   ]
  },
  {
   "cell_type": "code",
   "execution_count": 111,
   "metadata": {},
   "outputs": [
    {
     "data": {
      "text/plain": [
       "array([[ 1.70455927, -0.89274435,  4.04602991, ...,  0.73616267,\n",
       "         1.46449201, -0.29449203],\n",
       "       [-0.92576852, -0.89274435, -0.39339316, ...,  0.73616267,\n",
       "         1.46449201, -0.2297298 ],\n",
       "       [-1.35001494, -0.89274435,  0.01130281, ...,  0.73616267,\n",
       "        -0.68283063, -0.89030457],\n",
       "       ...,\n",
       "       [ 2.0439564 ,  1.1201415 , -0.47800215, ..., -1.35839541,\n",
       "        -0.68283063, -0.46287383],\n",
       "       [-0.07727569, -0.89274435,  0.01130281, ...,  0.73616267,\n",
       "         1.46449201, -1.16230595],\n",
       "       [ 0.77121715,  1.1201415 , -0.40766456, ...,  0.73616267,\n",
       "         1.46449201,  0.21065339]])"
      ]
     },
     "execution_count": 111,
     "metadata": {},
     "output_type": "execute_result"
    }
   ],
   "source": [
    "X_train"
   ]
  },
  {
   "cell_type": "code",
   "execution_count": 112,
   "metadata": {},
   "outputs": [],
   "source": [
    "#Initialize the ANN"
   ]
  },
  {
   "cell_type": "code",
   "execution_count": 113,
   "metadata": {},
   "outputs": [],
   "source": [
    "ann =tf.keras.models.Sequential()"
   ]
  },
  {
   "cell_type": "code",
   "execution_count": 114,
   "metadata": {},
   "outputs": [],
   "source": [
    "#Adding the first input and the hidden layer"
   ]
  },
  {
   "cell_type": "code",
   "execution_count": 115,
   "metadata": {},
   "outputs": [],
   "source": [
    "ann.add(tf.keras.layers.Dense(units='6', activation='relu'))"
   ]
  },
  {
   "cell_type": "code",
   "execution_count": 116,
   "metadata": {},
   "outputs": [],
   "source": [
    "#Adding the second input layer"
   ]
  },
  {
   "cell_type": "code",
   "execution_count": 117,
   "metadata": {},
   "outputs": [],
   "source": [
    "ann.add(tf.keras.layers.Dense(units='6', activation='relu'))"
   ]
  },
  {
   "cell_type": "code",
   "execution_count": 118,
   "metadata": {},
   "outputs": [],
   "source": [
    "#Add the output layer"
   ]
  },
  {
   "cell_type": "code",
   "execution_count": 119,
   "metadata": {},
   "outputs": [],
   "source": [
    "ann.add(tf.keras.layers.Dense(units='1', activation='sigmoid'))"
   ]
  },
  {
   "cell_type": "code",
   "execution_count": 120,
   "metadata": {},
   "outputs": [],
   "source": [
    "#Compile the Model"
   ]
  },
  {
   "cell_type": "code",
   "execution_count": 121,
   "metadata": {},
   "outputs": [],
   "source": [
    "ann.compile(optimizer='Adam', loss='binary_crossentropy', metrics='Accuracy')"
   ]
  },
  {
   "cell_type": "code",
   "execution_count": 122,
   "metadata": {},
   "outputs": [],
   "source": [
    "#Train the model"
   ]
  },
  {
   "cell_type": "code",
   "execution_count": 123,
   "metadata": {},
   "outputs": [
    {
     "name": "stdout",
     "output_type": "stream",
     "text": [
      "Epoch 1/60\n",
      "8/8 [==============================] - 0s 2ms/step - loss: 0.7441 - accuracy: 0.0000e+00\n",
      "Epoch 2/60\n",
      "8/8 [==============================] - 0s 3ms/step - loss: 0.7265 - accuracy: 0.0000e+00\n",
      "Epoch 3/60\n",
      "8/8 [==============================] - 0s 4ms/step - loss: 0.7124 - accuracy: 0.0000e+00\n",
      "Epoch 4/60\n",
      "8/8 [==============================] - 0s 3ms/step - loss: 0.6990 - accuracy: 0.0000e+00\n",
      "Epoch 5/60\n",
      "8/8 [==============================] - 0s 3ms/step - loss: 0.6858 - accuracy: 0.0000e+00\n",
      "Epoch 6/60\n",
      "8/8 [==============================] - 0s 3ms/step - loss: 0.6737 - accuracy: 0.0000e+00\n",
      "Epoch 7/60\n",
      "8/8 [==============================] - 0s 4ms/step - loss: 0.6625 - accuracy: 0.0000e+00\n",
      "Epoch 8/60\n",
      "8/8 [==============================] - 0s 3ms/step - loss: 0.6510 - accuracy: 0.0000e+00\n",
      "Epoch 9/60\n",
      "8/8 [==============================] - 0s 5ms/step - loss: 0.6389 - accuracy: 0.0000e+00\n",
      "Epoch 10/60\n",
      "8/8 [==============================] - 0s 6ms/step - loss: 0.6285 - accuracy: 0.0000e+00\n",
      "Epoch 11/60\n",
      "8/8 [==============================] - 0s 4ms/step - loss: 0.6177 - accuracy: 0.0000e+00\n",
      "Epoch 12/60\n",
      "8/8 [==============================] - 0s 3ms/step - loss: 0.6082 - accuracy: 0.0000e+00\n",
      "Epoch 13/60\n",
      "8/8 [==============================] - 0s 4ms/step - loss: 0.5979 - accuracy: 0.0000e+00\n",
      "Epoch 14/60\n",
      "8/8 [==============================] - 0s 3ms/step - loss: 0.5890 - accuracy: 0.0000e+00\n",
      "Epoch 15/60\n",
      "8/8 [==============================] - 0s 4ms/step - loss: 0.5808 - accuracy: 0.0000e+00\n",
      "Epoch 16/60\n",
      "8/8 [==============================] - 0s 3ms/step - loss: 0.5721 - accuracy: 0.0000e+00\n",
      "Epoch 17/60\n",
      "8/8 [==============================] - 0s 3ms/step - loss: 0.5635 - accuracy: 0.0000e+00\n",
      "Epoch 18/60\n",
      "8/8 [==============================] - 0s 3ms/step - loss: 0.5558 - accuracy: 0.0000e+00\n",
      "Epoch 19/60\n",
      "8/8 [==============================] - 0s 3ms/step - loss: 0.5478 - accuracy: 0.0000e+00\n",
      "Epoch 20/60\n",
      "8/8 [==============================] - 0s 3ms/step - loss: 0.5405 - accuracy: 0.0000e+00\n",
      "Epoch 21/60\n",
      "8/8 [==============================] - 0s 3ms/step - loss: 0.5340 - accuracy: 0.0000e+00\n",
      "Epoch 22/60\n",
      "8/8 [==============================] - 0s 3ms/step - loss: 0.5271 - accuracy: 0.0000e+00\n",
      "Epoch 23/60\n",
      "8/8 [==============================] - 0s 3ms/step - loss: 0.5208 - accuracy: 0.0000e+00\n",
      "Epoch 24/60\n",
      "8/8 [==============================] - 0s 3ms/step - loss: 0.5138 - accuracy: 0.0000e+00\n",
      "Epoch 25/60\n",
      "8/8 [==============================] - 0s 3ms/step - loss: 0.5075 - accuracy: 0.0000e+00\n",
      "Epoch 26/60\n",
      "8/8 [==============================] - 0s 3ms/step - loss: 0.5013 - accuracy: 0.0000e+00\n",
      "Epoch 27/60\n",
      "8/8 [==============================] - 0s 4ms/step - loss: 0.4952 - accuracy: 0.0000e+00\n",
      "Epoch 28/60\n",
      "8/8 [==============================] - 0s 3ms/step - loss: 0.4896 - accuracy: 0.0000e+00\n",
      "Epoch 29/60\n",
      "8/8 [==============================] - 0s 3ms/step - loss: 0.4841 - accuracy: 0.0000e+00\n",
      "Epoch 30/60\n",
      "8/8 [==============================] - 0s 3ms/step - loss: 0.4787 - accuracy: 0.0000e+00\n",
      "Epoch 31/60\n",
      "8/8 [==============================] - 0s 3ms/step - loss: 0.4741 - accuracy: 0.0000e+00\n",
      "Epoch 32/60\n",
      "8/8 [==============================] - 0s 3ms/step - loss: 0.4688 - accuracy: 0.0000e+00\n",
      "Epoch 33/60\n",
      "8/8 [==============================] - 0s 3ms/step - loss: 0.4642 - accuracy: 0.0000e+00\n",
      "Epoch 34/60\n",
      "8/8 [==============================] - 0s 3ms/step - loss: 0.4592 - accuracy: 0.0000e+00\n",
      "Epoch 35/60\n",
      "8/8 [==============================] - 0s 3ms/step - loss: 0.4548 - accuracy: 0.0000e+00\n",
      "Epoch 36/60\n",
      "8/8 [==============================] - 0s 3ms/step - loss: 0.4502 - accuracy: 0.0000e+00\n",
      "Epoch 37/60\n",
      "8/8 [==============================] - 0s 3ms/step - loss: 0.4453 - accuracy: 0.0000e+00\n",
      "Epoch 38/60\n",
      "8/8 [==============================] - 0s 3ms/step - loss: 0.4415 - accuracy: 0.0000e+00\n",
      "Epoch 39/60\n",
      "8/8 [==============================] - 0s 3ms/step - loss: 0.4369 - accuracy: 0.0000e+00\n",
      "Epoch 40/60\n",
      "8/8 [==============================] - 0s 2ms/step - loss: 0.4324 - accuracy: 0.0000e+00\n",
      "Epoch 41/60\n",
      "8/8 [==============================] - 0s 3ms/step - loss: 0.4282 - accuracy: 0.0000e+00\n",
      "Epoch 42/60\n",
      "8/8 [==============================] - 0s 3ms/step - loss: 0.4242 - accuracy: 0.0000e+00\n",
      "Epoch 43/60\n",
      "8/8 [==============================] - 0s 3ms/step - loss: 0.4198 - accuracy: 0.0000e+00\n",
      "Epoch 44/60\n",
      "8/8 [==============================] - 0s 3ms/step - loss: 0.4158 - accuracy: 0.0000e+00\n",
      "Epoch 45/60\n",
      "8/8 [==============================] - 0s 3ms/step - loss: 0.4120 - accuracy: 0.0000e+00\n",
      "Epoch 46/60\n",
      "8/8 [==============================] - 0s 3ms/step - loss: 0.4085 - accuracy: 0.0000e+00\n",
      "Epoch 47/60\n",
      "8/8 [==============================] - 0s 3ms/step - loss: 0.4047 - accuracy: 0.0000e+00\n",
      "Epoch 48/60\n",
      "8/8 [==============================] - 0s 3ms/step - loss: 0.4012 - accuracy: 0.0000e+00\n",
      "Epoch 49/60\n",
      "8/8 [==============================] - 0s 3ms/step - loss: 0.3980 - accuracy: 0.0000e+00\n",
      "Epoch 50/60\n",
      "8/8 [==============================] - 0s 4ms/step - loss: 0.3945 - accuracy: 0.0000e+00\n",
      "Epoch 51/60\n",
      "8/8 [==============================] - 0s 3ms/step - loss: 0.3918 - accuracy: 0.0000e+00\n",
      "Epoch 52/60\n",
      "8/8 [==============================] - 0s 4ms/step - loss: 0.3887 - accuracy: 0.0000e+00\n",
      "Epoch 53/60\n",
      "8/8 [==============================] - 0s 3ms/step - loss: 0.3859 - accuracy: 0.0000e+00\n",
      "Epoch 54/60\n",
      "8/8 [==============================] - 0s 3ms/step - loss: 0.3828 - accuracy: 0.0000e+00\n",
      "Epoch 55/60\n",
      "8/8 [==============================] - 0s 3ms/step - loss: 0.3803 - accuracy: 0.0000e+00\n",
      "Epoch 56/60\n",
      "8/8 [==============================] - 0s 4ms/step - loss: 0.3774 - accuracy: 0.0000e+00\n",
      "Epoch 57/60\n",
      "8/8 [==============================] - 0s 3ms/step - loss: 0.3750 - accuracy: 0.0000e+00\n",
      "Epoch 58/60\n",
      "8/8 [==============================] - 0s 3ms/step - loss: 0.3724 - accuracy: 0.0000e+00\n",
      "Epoch 59/60\n",
      "8/8 [==============================] - 0s 3ms/step - loss: 0.3703 - accuracy: 0.0000e+00\n",
      "Epoch 60/60\n",
      "8/8 [==============================] - 0s 3ms/step - loss: 0.3677 - accuracy: 0.0000e+00\n"
     ]
    },
    {
     "data": {
      "text/plain": [
       "<tensorflow.python.keras.callbacks.History at 0x256d8f48548>"
      ]
     },
     "execution_count": 123,
     "metadata": {},
     "output_type": "execute_result"
    }
   ],
   "source": [
    "ann.fit(X_train, y_train, batch_size=30, epochs=60)"
   ]
  },
  {
   "cell_type": "code",
   "execution_count": null,
   "metadata": {},
   "outputs": [],
   "source": [
    "#Predicting with the model"
   ]
  },
  {
   "cell_type": "raw",
   "metadata": {},
   "source": [
    "#Predicting the test results\n",
    "\n",
    "y_pred = ann.predict(X_test)\n",
    "y_pred = (y_pred > 0.5)\n",
    "print(np.concatenate((y_pred.reshape(len(y_pred),1), y_test.reshape(len(y_test),1)),1))"
   ]
  },
  {
   "cell_type": "code",
   "execution_count": 127,
   "metadata": {},
   "outputs": [
    {
     "name": "stdout",
     "output_type": "stream",
     "text": [
      "[[36  1]\n",
      " [10 13]]\n"
     ]
    },
    {
     "data": {
      "text/plain": [
       "0.8166666666666667"
      ]
     },
     "execution_count": 127,
     "metadata": {},
     "output_type": "execute_result"
    }
   ],
   "source": [
    "#Making a Confusion Matrix\n",
    "from sklearn.metrics import confusion_matrix, accuracy_score\n",
    "cm = confusion_matrix(y_test, y_pred)\n",
    "print(cm)\n",
    "accuracy_score(y_test, y_pred)"
   ]
  },
  {
   "cell_type": "code",
   "execution_count": null,
   "metadata": {},
   "outputs": [],
   "source": [
    "#"
   ]
  }
 ],
 "metadata": {
  "kernelspec": {
   "display_name": "Python 3",
   "language": "python",
   "name": "python3"
  },
  "language_info": {
   "codemirror_mode": {
    "name": "ipython",
    "version": 3
   },
   "file_extension": ".py",
   "mimetype": "text/x-python",
   "name": "python",
   "nbconvert_exporter": "python",
   "pygments_lexer": "ipython3",
   "version": "3.7.6"
  }
 },
 "nbformat": 4,
 "nbformat_minor": 4
}
