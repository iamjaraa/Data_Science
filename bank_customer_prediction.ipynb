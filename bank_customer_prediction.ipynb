{
 "cells": [
  {
   "cell_type": "code",
   "execution_count": null,
   "metadata": {},
   "outputs": [],
   "source": [
    "#ANN TO PREDICT IF A CUSTOMER WOULD LEAVE A BANK (CLASSIFICATION)"
   ]
  },
  {
   "cell_type": "code",
   "execution_count": 48,
   "metadata": {},
   "outputs": [],
   "source": [
    "#PART 1"
   ]
  },
  {
   "cell_type": "code",
   "execution_count": 49,
   "metadata": {},
   "outputs": [],
   "source": [
    "#Import the releavnt libraries"
   ]
  },
  {
   "cell_type": "code",
   "execution_count": 50,
   "metadata": {},
   "outputs": [],
   "source": [
    "import pandas as pd"
   ]
  },
  {
   "cell_type": "code",
   "execution_count": 51,
   "metadata": {},
   "outputs": [],
   "source": [
    "import numpy as np"
   ]
  },
  {
   "cell_type": "code",
   "execution_count": 52,
   "metadata": {},
   "outputs": [],
   "source": [
    "import matplotlib.pyplot as plt"
   ]
  },
  {
   "cell_type": "code",
   "execution_count": 53,
   "metadata": {},
   "outputs": [],
   "source": [
    "import tensorflow as tf"
   ]
  },
  {
   "cell_type": "code",
   "execution_count": 54,
   "metadata": {},
   "outputs": [
    {
     "data": {
      "text/plain": [
       "'2.2.0'"
      ]
     },
     "execution_count": 54,
     "metadata": {},
     "output_type": "execute_result"
    }
   ],
   "source": [
    "tf.__version__"
   ]
  },
  {
   "cell_type": "code",
   "execution_count": 55,
   "metadata": {},
   "outputs": [],
   "source": [
    "#PART 2"
   ]
  },
  {
   "cell_type": "code",
   "execution_count": 56,
   "metadata": {},
   "outputs": [],
   "source": [
    "#IMPORT THE DATA SET"
   ]
  },
  {
   "cell_type": "code",
   "execution_count": 57,
   "metadata": {},
   "outputs": [],
   "source": [
    "dataset = pd.read_csv('bank_test.csv')"
   ]
  },
  {
   "cell_type": "code",
   "execution_count": 58,
   "metadata": {},
   "outputs": [
    {
     "data": {
      "text/html": [
       "<div>\n",
       "<style scoped>\n",
       "    .dataframe tbody tr th:only-of-type {\n",
       "        vertical-align: middle;\n",
       "    }\n",
       "\n",
       "    .dataframe tbody tr th {\n",
       "        vertical-align: top;\n",
       "    }\n",
       "\n",
       "    .dataframe thead th {\n",
       "        text-align: right;\n",
       "    }\n",
       "</style>\n",
       "<table border=\"1\" class=\"dataframe\">\n",
       "  <thead>\n",
       "    <tr style=\"text-align: right;\">\n",
       "      <th></th>\n",
       "      <th>RowNumber</th>\n",
       "      <th>CustomerId</th>\n",
       "      <th>Surname</th>\n",
       "      <th>CreditScore</th>\n",
       "      <th>Geography</th>\n",
       "      <th>Gender</th>\n",
       "      <th>Age</th>\n",
       "      <th>Tenure</th>\n",
       "      <th>Balance</th>\n",
       "      <th>NumOfProducts</th>\n",
       "      <th>HasCrCard</th>\n",
       "      <th>IsActiveMember</th>\n",
       "      <th>EstimatedSalary</th>\n",
       "      <th>Exited</th>\n",
       "    </tr>\n",
       "  </thead>\n",
       "  <tbody>\n",
       "    <tr>\n",
       "      <th>0</th>\n",
       "      <td>1</td>\n",
       "      <td>15634602</td>\n",
       "      <td>Hargrave</td>\n",
       "      <td>619</td>\n",
       "      <td>France</td>\n",
       "      <td>Female</td>\n",
       "      <td>42</td>\n",
       "      <td>2</td>\n",
       "      <td>0.00</td>\n",
       "      <td>1</td>\n",
       "      <td>1</td>\n",
       "      <td>1</td>\n",
       "      <td>101348.88</td>\n",
       "      <td>1</td>\n",
       "    </tr>\n",
       "    <tr>\n",
       "      <th>1</th>\n",
       "      <td>2</td>\n",
       "      <td>15647311</td>\n",
       "      <td>Hill</td>\n",
       "      <td>608</td>\n",
       "      <td>Spain</td>\n",
       "      <td>Female</td>\n",
       "      <td>41</td>\n",
       "      <td>1</td>\n",
       "      <td>83807.86</td>\n",
       "      <td>1</td>\n",
       "      <td>0</td>\n",
       "      <td>1</td>\n",
       "      <td>112542.58</td>\n",
       "      <td>0</td>\n",
       "    </tr>\n",
       "    <tr>\n",
       "      <th>2</th>\n",
       "      <td>3</td>\n",
       "      <td>15619304</td>\n",
       "      <td>Onio</td>\n",
       "      <td>502</td>\n",
       "      <td>France</td>\n",
       "      <td>Female</td>\n",
       "      <td>42</td>\n",
       "      <td>8</td>\n",
       "      <td>159660.80</td>\n",
       "      <td>3</td>\n",
       "      <td>1</td>\n",
       "      <td>0</td>\n",
       "      <td>113931.57</td>\n",
       "      <td>1</td>\n",
       "    </tr>\n",
       "    <tr>\n",
       "      <th>3</th>\n",
       "      <td>4</td>\n",
       "      <td>15701354</td>\n",
       "      <td>Boni</td>\n",
       "      <td>699</td>\n",
       "      <td>France</td>\n",
       "      <td>Female</td>\n",
       "      <td>39</td>\n",
       "      <td>1</td>\n",
       "      <td>0.00</td>\n",
       "      <td>2</td>\n",
       "      <td>0</td>\n",
       "      <td>0</td>\n",
       "      <td>93826.63</td>\n",
       "      <td>0</td>\n",
       "    </tr>\n",
       "    <tr>\n",
       "      <th>4</th>\n",
       "      <td>5</td>\n",
       "      <td>15737888</td>\n",
       "      <td>Mitchell</td>\n",
       "      <td>850</td>\n",
       "      <td>Spain</td>\n",
       "      <td>Female</td>\n",
       "      <td>43</td>\n",
       "      <td>2</td>\n",
       "      <td>125510.82</td>\n",
       "      <td>1</td>\n",
       "      <td>1</td>\n",
       "      <td>1</td>\n",
       "      <td>79084.10</td>\n",
       "      <td>0</td>\n",
       "    </tr>\n",
       "    <tr>\n",
       "      <th>...</th>\n",
       "      <td>...</td>\n",
       "      <td>...</td>\n",
       "      <td>...</td>\n",
       "      <td>...</td>\n",
       "      <td>...</td>\n",
       "      <td>...</td>\n",
       "      <td>...</td>\n",
       "      <td>...</td>\n",
       "      <td>...</td>\n",
       "      <td>...</td>\n",
       "      <td>...</td>\n",
       "      <td>...</td>\n",
       "      <td>...</td>\n",
       "      <td>...</td>\n",
       "    </tr>\n",
       "    <tr>\n",
       "      <th>9995</th>\n",
       "      <td>9996</td>\n",
       "      <td>15606229</td>\n",
       "      <td>Obijiaku</td>\n",
       "      <td>771</td>\n",
       "      <td>France</td>\n",
       "      <td>Male</td>\n",
       "      <td>39</td>\n",
       "      <td>5</td>\n",
       "      <td>0.00</td>\n",
       "      <td>2</td>\n",
       "      <td>1</td>\n",
       "      <td>0</td>\n",
       "      <td>96270.64</td>\n",
       "      <td>0</td>\n",
       "    </tr>\n",
       "    <tr>\n",
       "      <th>9996</th>\n",
       "      <td>9997</td>\n",
       "      <td>15569892</td>\n",
       "      <td>Johnstone</td>\n",
       "      <td>516</td>\n",
       "      <td>France</td>\n",
       "      <td>Male</td>\n",
       "      <td>35</td>\n",
       "      <td>10</td>\n",
       "      <td>57369.61</td>\n",
       "      <td>1</td>\n",
       "      <td>1</td>\n",
       "      <td>1</td>\n",
       "      <td>101699.77</td>\n",
       "      <td>0</td>\n",
       "    </tr>\n",
       "    <tr>\n",
       "      <th>9997</th>\n",
       "      <td>9998</td>\n",
       "      <td>15584532</td>\n",
       "      <td>Liu</td>\n",
       "      <td>709</td>\n",
       "      <td>France</td>\n",
       "      <td>Female</td>\n",
       "      <td>36</td>\n",
       "      <td>7</td>\n",
       "      <td>0.00</td>\n",
       "      <td>1</td>\n",
       "      <td>0</td>\n",
       "      <td>1</td>\n",
       "      <td>42085.58</td>\n",
       "      <td>1</td>\n",
       "    </tr>\n",
       "    <tr>\n",
       "      <th>9998</th>\n",
       "      <td>9999</td>\n",
       "      <td>15682355</td>\n",
       "      <td>Sabbatini</td>\n",
       "      <td>772</td>\n",
       "      <td>Germany</td>\n",
       "      <td>Male</td>\n",
       "      <td>42</td>\n",
       "      <td>3</td>\n",
       "      <td>75075.31</td>\n",
       "      <td>2</td>\n",
       "      <td>1</td>\n",
       "      <td>0</td>\n",
       "      <td>92888.52</td>\n",
       "      <td>1</td>\n",
       "    </tr>\n",
       "    <tr>\n",
       "      <th>9999</th>\n",
       "      <td>10000</td>\n",
       "      <td>15628319</td>\n",
       "      <td>Walker</td>\n",
       "      <td>792</td>\n",
       "      <td>France</td>\n",
       "      <td>Female</td>\n",
       "      <td>28</td>\n",
       "      <td>4</td>\n",
       "      <td>130142.79</td>\n",
       "      <td>1</td>\n",
       "      <td>1</td>\n",
       "      <td>0</td>\n",
       "      <td>38190.78</td>\n",
       "      <td>0</td>\n",
       "    </tr>\n",
       "  </tbody>\n",
       "</table>\n",
       "<p>10000 rows × 14 columns</p>\n",
       "</div>"
      ],
      "text/plain": [
       "      RowNumber  CustomerId    Surname  CreditScore Geography  Gender  Age  \\\n",
       "0             1    15634602   Hargrave          619    France  Female   42   \n",
       "1             2    15647311       Hill          608     Spain  Female   41   \n",
       "2             3    15619304       Onio          502    France  Female   42   \n",
       "3             4    15701354       Boni          699    France  Female   39   \n",
       "4             5    15737888   Mitchell          850     Spain  Female   43   \n",
       "...         ...         ...        ...          ...       ...     ...  ...   \n",
       "9995       9996    15606229   Obijiaku          771    France    Male   39   \n",
       "9996       9997    15569892  Johnstone          516    France    Male   35   \n",
       "9997       9998    15584532        Liu          709    France  Female   36   \n",
       "9998       9999    15682355  Sabbatini          772   Germany    Male   42   \n",
       "9999      10000    15628319     Walker          792    France  Female   28   \n",
       "\n",
       "      Tenure    Balance  NumOfProducts  HasCrCard  IsActiveMember  \\\n",
       "0          2       0.00              1          1               1   \n",
       "1          1   83807.86              1          0               1   \n",
       "2          8  159660.80              3          1               0   \n",
       "3          1       0.00              2          0               0   \n",
       "4          2  125510.82              1          1               1   \n",
       "...      ...        ...            ...        ...             ...   \n",
       "9995       5       0.00              2          1               0   \n",
       "9996      10   57369.61              1          1               1   \n",
       "9997       7       0.00              1          0               1   \n",
       "9998       3   75075.31              2          1               0   \n",
       "9999       4  130142.79              1          1               0   \n",
       "\n",
       "      EstimatedSalary  Exited  \n",
       "0           101348.88       1  \n",
       "1           112542.58       0  \n",
       "2           113931.57       1  \n",
       "3            93826.63       0  \n",
       "4            79084.10       0  \n",
       "...               ...     ...  \n",
       "9995         96270.64       0  \n",
       "9996        101699.77       0  \n",
       "9997         42085.58       1  \n",
       "9998         92888.52       1  \n",
       "9999         38190.78       0  \n",
       "\n",
       "[10000 rows x 14 columns]"
      ]
     },
     "execution_count": 58,
     "metadata": {},
     "output_type": "execute_result"
    }
   ],
   "source": [
    "dataset"
   ]
  },
  {
   "cell_type": "code",
   "execution_count": 59,
   "metadata": {},
   "outputs": [],
   "source": [
    "#Feature Matrix"
   ]
  },
  {
   "cell_type": "code",
   "execution_count": 60,
   "metadata": {},
   "outputs": [],
   "source": [
    "X = dataset.iloc[:, 3: -1].values"
   ]
  },
  {
   "cell_type": "code",
   "execution_count": 61,
   "metadata": {},
   "outputs": [
    {
     "data": {
      "text/plain": [
       "array([[619, 'France', 'Female', ..., 1, 1, 101348.88],\n",
       "       [608, 'Spain', 'Female', ..., 0, 1, 112542.58],\n",
       "       [502, 'France', 'Female', ..., 1, 0, 113931.57],\n",
       "       ...,\n",
       "       [709, 'France', 'Female', ..., 0, 1, 42085.58],\n",
       "       [772, 'Germany', 'Male', ..., 1, 0, 92888.52],\n",
       "       [792, 'France', 'Female', ..., 1, 0, 38190.78]], dtype=object)"
      ]
     },
     "execution_count": 61,
     "metadata": {},
     "output_type": "execute_result"
    }
   ],
   "source": [
    "X"
   ]
  },
  {
   "cell_type": "code",
   "execution_count": 62,
   "metadata": {},
   "outputs": [],
   "source": [
    "y = dataset.iloc[:, -1].values"
   ]
  },
  {
   "cell_type": "code",
   "execution_count": 63,
   "metadata": {},
   "outputs": [
    {
     "data": {
      "text/plain": [
       "array([1, 0, 1, ..., 1, 1, 0], dtype=int64)"
      ]
     },
     "execution_count": 63,
     "metadata": {},
     "output_type": "execute_result"
    }
   ],
   "source": [
    "y"
   ]
  },
  {
   "cell_type": "code",
   "execution_count": 64,
   "metadata": {},
   "outputs": [],
   "source": [
    "#Econde the caterogical data (Gender Column)"
   ]
  },
  {
   "cell_type": "code",
   "execution_count": 65,
   "metadata": {},
   "outputs": [],
   "source": [
    "from sklearn.preprocessing import LabelEncoder\n",
    "le = LabelEncoder()\n",
    "X[:, 2] = le.fit_transform(X[:, 2])"
   ]
  },
  {
   "cell_type": "code",
   "execution_count": 66,
   "metadata": {},
   "outputs": [],
   "source": [
    "#Encode the Geography column using oneHot Encoding"
   ]
  },
  {
   "cell_type": "code",
   "execution_count": 67,
   "metadata": {},
   "outputs": [],
   "source": [
    "from sklearn.compose import ColumnTransformer\n",
    "from sklearn.preprocessing import OneHotEncoder\n",
    "\n",
    "ct = ColumnTransformer(transformers=[('encoder', OneHotEncoder(), [1])], remainder = 'passthrough')\n",
    "X = np.array(ct.fit_transform(X))"
   ]
  },
  {
   "cell_type": "code",
   "execution_count": 68,
   "metadata": {},
   "outputs": [
    {
     "data": {
      "text/plain": [
       "array([[1.0, 0.0, 0.0, ..., 1, 1, 101348.88],\n",
       "       [0.0, 0.0, 1.0, ..., 0, 1, 112542.58],\n",
       "       [1.0, 0.0, 0.0, ..., 1, 0, 113931.57],\n",
       "       ...,\n",
       "       [1.0, 0.0, 0.0, ..., 0, 1, 42085.58],\n",
       "       [0.0, 1.0, 0.0, ..., 1, 0, 92888.52],\n",
       "       [1.0, 0.0, 0.0, ..., 1, 0, 38190.78]], dtype=object)"
      ]
     },
     "execution_count": 68,
     "metadata": {},
     "output_type": "execute_result"
    }
   ],
   "source": [
    "X"
   ]
  },
  {
   "cell_type": "code",
   "execution_count": 69,
   "metadata": {},
   "outputs": [],
   "source": [
    "#Splitting to training and testing set"
   ]
  },
  {
   "cell_type": "code",
   "execution_count": 76,
   "metadata": {},
   "outputs": [],
   "source": [
    "from sklearn.model_selection import train_test_split\n",
    "X_train, X_test, y_train, y_test = train_test_split (X, y, test_size = 0.2, random_state = 0)"
   ]
  },
  {
   "cell_type": "code",
   "execution_count": 77,
   "metadata": {},
   "outputs": [],
   "source": [
    "#Feature Scaling"
   ]
  },
  {
   "cell_type": "code",
   "execution_count": 79,
   "metadata": {},
   "outputs": [],
   "source": [
    "from sklearn.preprocessing import StandardScaler\n",
    "sc = StandardScaler()\n",
    "X_train = sc.fit_transform(X_train)\n",
    "X_test = sc.fit_transform(X_test)"
   ]
  },
  {
   "cell_type": "code",
   "execution_count": 80,
   "metadata": {},
   "outputs": [
    {
     "data": {
      "text/plain": [
       "array([[-1.01460667, -0.5698444 ,  1.74309049, ...,  0.64259497,\n",
       "        -1.03227043,  1.10643166],\n",
       "       [-1.01460667,  1.75486502, -0.57369368, ...,  0.64259497,\n",
       "         0.9687384 , -0.74866447],\n",
       "       [ 0.98560362, -0.5698444 , -0.57369368, ...,  0.64259497,\n",
       "        -1.03227043,  1.48533467],\n",
       "       ...,\n",
       "       [ 0.98560362, -0.5698444 , -0.57369368, ...,  0.64259497,\n",
       "        -1.03227043,  1.41231994],\n",
       "       [-1.01460667, -0.5698444 ,  1.74309049, ...,  0.64259497,\n",
       "         0.9687384 ,  0.84432121],\n",
       "       [-1.01460667,  1.75486502, -0.57369368, ...,  0.64259497,\n",
       "        -1.03227043,  0.32472465]])"
      ]
     },
     "execution_count": 80,
     "metadata": {},
     "output_type": "execute_result"
    }
   ],
   "source": [
    "X_train"
   ]
  },
  {
   "cell_type": "code",
   "execution_count": 81,
   "metadata": {},
   "outputs": [],
   "source": [
    "#PART 3: Initialize the ANN"
   ]
  },
  {
   "cell_type": "code",
   "execution_count": 86,
   "metadata": {},
   "outputs": [],
   "source": [
    "ann = tf.keras.models.Sequential()"
   ]
  },
  {
   "cell_type": "code",
   "execution_count": null,
   "metadata": {},
   "outputs": [],
   "source": [
    "#Adding the first input and the hidden layer"
   ]
  },
  {
   "cell_type": "code",
   "execution_count": 87,
   "metadata": {},
   "outputs": [],
   "source": [
    "ann.add(tf.keras.layers.Dense(units='6', activation='relu'))"
   ]
  },
  {
   "cell_type": "code",
   "execution_count": null,
   "metadata": {},
   "outputs": [],
   "source": [
    "#Adding the second input and the hidden layer"
   ]
  },
  {
   "cell_type": "code",
   "execution_count": 88,
   "metadata": {},
   "outputs": [],
   "source": [
    "ann.add(tf.keras.layers.Dense(units='6', activation='relu'))"
   ]
  },
  {
   "cell_type": "code",
   "execution_count": 89,
   "metadata": {},
   "outputs": [],
   "source": [
    "#Adding the output layer"
   ]
  },
  {
   "cell_type": "code",
   "execution_count": 90,
   "metadata": {},
   "outputs": [],
   "source": [
    "ann.add(tf.keras.layers.Dense(units='1', activation='sigmoid'))"
   ]
  },
  {
   "cell_type": "code",
   "execution_count": 91,
   "metadata": {},
   "outputs": [],
   "source": [
    "#PART 4: Compiling the ANN"
   ]
  },
  {
   "cell_type": "code",
   "execution_count": 93,
   "metadata": {},
   "outputs": [],
   "source": [
    "ann.compile(optimizer='Adam', loss='binary_crossentropy', metrics='Accuracy')"
   ]
  },
  {
   "cell_type": "code",
   "execution_count": 94,
   "metadata": {},
   "outputs": [],
   "source": [
    "#Training the ANN"
   ]
  },
  {
   "cell_type": "code",
   "execution_count": 97,
   "metadata": {},
   "outputs": [
    {
     "name": "stdout",
     "output_type": "stream",
     "text": [
      "Epoch 1/100\n",
      "267/267 [==============================] - 1s 3ms/step - loss: 0.3310 - accuracy: 0.0000e+00\n",
      "Epoch 2/100\n",
      "267/267 [==============================] - 1s 2ms/step - loss: 0.3312 - accuracy: 0.0000e+00\n",
      "Epoch 3/100\n",
      "267/267 [==============================] - 1s 2ms/step - loss: 0.3308 - accuracy: 0.0000e+00\n",
      "Epoch 4/100\n",
      "267/267 [==============================] - 1s 2ms/step - loss: 0.3308 - accuracy: 0.0000e+00\n",
      "Epoch 5/100\n",
      "267/267 [==============================] - 1s 2ms/step - loss: 0.3307 - accuracy: 0.0000e+00\n",
      "Epoch 6/100\n",
      "267/267 [==============================] - 1s 2ms/step - loss: 0.3307 - accuracy: 0.0000e+00\n",
      "Epoch 7/100\n",
      "267/267 [==============================] - 1s 2ms/step - loss: 0.3310 - accuracy: 0.0000e+00\n",
      "Epoch 8/100\n",
      "267/267 [==============================] - 1s 3ms/step - loss: 0.3308 - accuracy: 0.0000e+00\n",
      "Epoch 9/100\n",
      "267/267 [==============================] - 1s 3ms/step - loss: 0.3300 - accuracy: 0.0000e+00\n",
      "Epoch 10/100\n",
      "267/267 [==============================] - 1s 3ms/step - loss: 0.3301 - accuracy: 0.0000e+00\n",
      "Epoch 11/100\n",
      "267/267 [==============================] - 1s 3ms/step - loss: 0.3298 - accuracy: 0.0000e+00\n",
      "Epoch 12/100\n",
      "267/267 [==============================] - 1s 3ms/step - loss: 0.3304 - accuracy: 0.0000e+00\n",
      "Epoch 13/100\n",
      "267/267 [==============================] - 1s 3ms/step - loss: 0.3298 - accuracy: 0.0000e+00\n",
      "Epoch 14/100\n",
      "267/267 [==============================] - 1s 3ms/step - loss: 0.3300 - accuracy: 0.0000e+00\n",
      "Epoch 15/100\n",
      "267/267 [==============================] - 1s 3ms/step - loss: 0.3300 - accuracy: 0.0000e+00\n",
      "Epoch 16/100\n",
      "267/267 [==============================] - 1s 3ms/step - loss: 0.3299 - accuracy: 0.0000e+00\n",
      "Epoch 17/100\n",
      "267/267 [==============================] - 1s 3ms/step - loss: 0.3295 - accuracy: 0.0000e+00\n",
      "Epoch 18/100\n",
      "267/267 [==============================] - 1s 3ms/step - loss: 0.3293 - accuracy: 0.0000e+00\n",
      "Epoch 19/100\n",
      "267/267 [==============================] - 1s 2ms/step - loss: 0.3298 - accuracy: 0.0000e+00\n",
      "Epoch 20/100\n",
      "267/267 [==============================] - 1s 3ms/step - loss: 0.3292 - accuracy: 0.0000e+00\n",
      "Epoch 21/100\n",
      "267/267 [==============================] - 1s 2ms/step - loss: 0.3294 - accuracy: 0.0000e+00\n",
      "Epoch 22/100\n",
      "267/267 [==============================] - 1s 3ms/step - loss: 0.3291 - accuracy: 0.0000e+00\n",
      "Epoch 23/100\n",
      "267/267 [==============================] - 1s 3ms/step - loss: 0.3288 - accuracy: 0.0000e+00\n",
      "Epoch 24/100\n",
      "267/267 [==============================] - 1s 3ms/step - loss: 0.3292 - accuracy: 0.0000e+00\n",
      "Epoch 25/100\n",
      "267/267 [==============================] - 1s 3ms/step - loss: 0.3289 - accuracy: 0.0000e+00\n",
      "Epoch 26/100\n",
      "267/267 [==============================] - 1s 4ms/step - loss: 0.3296 - accuracy: 0.0000e+00\n",
      "Epoch 27/100\n",
      "267/267 [==============================] - 1s 3ms/step - loss: 0.3289 - accuracy: 0.0000e+00\n",
      "Epoch 28/100\n",
      "267/267 [==============================] - 1s 3ms/step - loss: 0.3283 - accuracy: 0.0000e+00\n",
      "Epoch 29/100\n",
      "267/267 [==============================] - 1s 2ms/step - loss: 0.3286 - accuracy: 0.0000e+00\n",
      "Epoch 30/100\n",
      "267/267 [==============================] - 1s 3ms/step - loss: 0.3282 - accuracy: 0.0000e+00\n",
      "Epoch 31/100\n",
      "267/267 [==============================] - 1s 3ms/step - loss: 0.3283 - accuracy: 0.0000e+00\n",
      "Epoch 32/100\n",
      "267/267 [==============================] - 1s 2ms/step - loss: 0.3282 - accuracy: 0.0000e+00\n",
      "Epoch 33/100\n",
      "267/267 [==============================] - 1s 3ms/step - loss: 0.3287 - accuracy: 0.0000e+00\n",
      "Epoch 34/100\n",
      "267/267 [==============================] - 1s 2ms/step - loss: 0.3286 - accuracy: 0.0000e+00\n",
      "Epoch 35/100\n",
      "267/267 [==============================] - 1s 2ms/step - loss: 0.3287 - accuracy: 0.0000e+00\n",
      "Epoch 36/100\n",
      "267/267 [==============================] - 1s 2ms/step - loss: 0.3280 - accuracy: 0.0000e+00\n",
      "Epoch 37/100\n",
      "267/267 [==============================] - 1s 2ms/step - loss: 0.3276 - accuracy: 0.0000e+00\n",
      "Epoch 38/100\n",
      "267/267 [==============================] - 1s 2ms/step - loss: 0.3278 - accuracy: 0.0000e+00\n",
      "Epoch 39/100\n",
      "267/267 [==============================] - 1s 3ms/step - loss: 0.3275 - accuracy: 0.0000e+00\n",
      "Epoch 40/100\n",
      "267/267 [==============================] - 1s 2ms/step - loss: 0.3280 - accuracy: 0.0000e+00\n",
      "Epoch 41/100\n",
      "267/267 [==============================] - 1s 2ms/step - loss: 0.3274 - accuracy: 0.0000e+00\n",
      "Epoch 42/100\n",
      "267/267 [==============================] - 1s 2ms/step - loss: 0.3272 - accuracy: 0.0000e+00\n",
      "Epoch 43/100\n",
      "267/267 [==============================] - 1s 2ms/step - loss: 0.3274 - accuracy: 0.0000e+00\n",
      "Epoch 44/100\n",
      "267/267 [==============================] - 1s 3ms/step - loss: 0.3273 - accuracy: 0.0000e+00\n",
      "Epoch 45/100\n",
      "267/267 [==============================] - 1s 2ms/step - loss: 0.3274 - accuracy: 0.0000e+00\n",
      "Epoch 46/100\n",
      "267/267 [==============================] - 1s 3ms/step - loss: 0.3273 - accuracy: 0.0000e+00\n",
      "Epoch 47/100\n",
      "267/267 [==============================] - 1s 3ms/step - loss: 0.3270 - accuracy: 0.0000e+00\n",
      "Epoch 48/100\n",
      "267/267 [==============================] - 1s 3ms/step - loss: 0.3266 - accuracy: 0.0000e+00\n",
      "Epoch 49/100\n",
      "267/267 [==============================] - 1s 2ms/step - loss: 0.3267 - accuracy: 0.0000e+00\n",
      "Epoch 50/100\n",
      "267/267 [==============================] - 1s 3ms/step - loss: 0.3264 - accuracy: 0.0000e+00\n",
      "Epoch 51/100\n",
      "267/267 [==============================] - 1s 3ms/step - loss: 0.3260 - accuracy: 0.0000e+00\n",
      "Epoch 52/100\n",
      "267/267 [==============================] - 1s 3ms/step - loss: 0.3262 - accuracy: 0.0000e+00\n",
      "Epoch 53/100\n",
      "267/267 [==============================] - 1s 4ms/step - loss: 0.3260 - accuracy: 0.0000e+00\n",
      "Epoch 54/100\n",
      "267/267 [==============================] - 1s 3ms/step - loss: 0.3258 - accuracy: 0.0000e+00\n",
      "Epoch 55/100\n",
      "267/267 [==============================] - 1s 3ms/step - loss: 0.3257 - accuracy: 0.0000e+00\n",
      "Epoch 56/100\n",
      "267/267 [==============================] - 1s 3ms/step - loss: 0.3259 - accuracy: 0.0000e+00\n",
      "Epoch 57/100\n",
      "267/267 [==============================] - 1s 3ms/step - loss: 0.3257 - accuracy: 0.0000e+00\n",
      "Epoch 58/100\n",
      "267/267 [==============================] - 1s 3ms/step - loss: 0.3260 - accuracy: 0.0000e+00\n",
      "Epoch 59/100\n",
      "267/267 [==============================] - 1s 3ms/step - loss: 0.3256 - accuracy: 0.0000e+00\n",
      "Epoch 60/100\n",
      "267/267 [==============================] - 1s 3ms/step - loss: 0.3255 - accuracy: 0.0000e+00\n",
      "Epoch 61/100\n",
      "267/267 [==============================] - 1s 2ms/step - loss: 0.3251 - accuracy: 0.0000e+00\n",
      "Epoch 62/100\n",
      "267/267 [==============================] - 1s 3ms/step - loss: 0.3250 - accuracy: 0.0000e+00\n",
      "Epoch 63/100\n",
      "267/267 [==============================] - 1s 3ms/step - loss: 0.3254 - accuracy: 0.0000e+00\n",
      "Epoch 64/100\n",
      "267/267 [==============================] - 1s 2ms/step - loss: 0.3251 - accuracy: 0.0000e+00\n",
      "Epoch 65/100\n",
      "267/267 [==============================] - 1s 2ms/step - loss: 0.3254 - accuracy: 0.0000e+00\n",
      "Epoch 66/100\n",
      "267/267 [==============================] - 1s 3ms/step - loss: 0.3256 - accuracy: 0.0000e+00\n",
      "Epoch 67/100\n",
      "267/267 [==============================] - 1s 3ms/step - loss: 0.3254 - accuracy: 0.0000e+00\n",
      "Epoch 68/100\n",
      "267/267 [==============================] - 1s 3ms/step - loss: 0.3250 - accuracy: 0.0000e+00\n",
      "Epoch 69/100\n",
      "267/267 [==============================] - 1s 3ms/step - loss: 0.3248 - accuracy: 0.0000e+00\n",
      "Epoch 70/100\n",
      "267/267 [==============================] - 1s 3ms/step - loss: 0.3250 - accuracy: 0.0000e+00\n",
      "Epoch 71/100\n",
      "267/267 [==============================] - 1s 3ms/step - loss: 0.3250 - accuracy: 0.0000e+00\n",
      "Epoch 72/100\n",
      "267/267 [==============================] - 1s 3ms/step - loss: 0.3246 - accuracy: 0.0000e+00\n",
      "Epoch 73/100\n",
      "267/267 [==============================] - 1s 2ms/step - loss: 0.3248 - accuracy: 0.0000e+00\n",
      "Epoch 74/100\n",
      "267/267 [==============================] - 1s 2ms/step - loss: 0.3249 - accuracy: 0.0000e+00\n",
      "Epoch 75/100\n",
      "267/267 [==============================] - 1s 3ms/step - loss: 0.3247 - accuracy: 0.0000e+00\n",
      "Epoch 76/100\n",
      "267/267 [==============================] - 1s 3ms/step - loss: 0.3249 - accuracy: 0.0000e+00\n",
      "Epoch 77/100\n",
      "267/267 [==============================] - 1s 3ms/step - loss: 0.3245 - accuracy: 0.0000e+00\n",
      "Epoch 78/100\n",
      "267/267 [==============================] - 1s 3ms/step - loss: 0.3246 - accuracy: 0.0000e+00\n",
      "Epoch 79/100\n",
      "267/267 [==============================] - 1s 2ms/step - loss: 0.3247 - accuracy: 0.0000e+00\n",
      "Epoch 80/100\n",
      "267/267 [==============================] - 1s 3ms/step - loss: 0.3244 - accuracy: 0.0000e+00\n",
      "Epoch 81/100\n",
      "267/267 [==============================] - 1s 3ms/step - loss: 0.3248 - accuracy: 0.0000e+00\n",
      "Epoch 82/100\n",
      "267/267 [==============================] - 1s 2ms/step - loss: 0.3247 - accuracy: 0.0000e+00\n",
      "Epoch 83/100\n",
      "267/267 [==============================] - 1s 2ms/step - loss: 0.3241 - accuracy: 0.0000e+00\n",
      "Epoch 84/100\n",
      "267/267 [==============================] - 1s 2ms/step - loss: 0.3244 - accuracy: 0.0000e+00\n",
      "Epoch 85/100\n",
      "267/267 [==============================] - 1s 2ms/step - loss: 0.3245 - accuracy: 0.0000e+00\n",
      "Epoch 86/100\n",
      "267/267 [==============================] - 1s 2ms/step - loss: 0.3244 - accuracy: 0.0000e+00\n",
      "Epoch 87/100\n",
      "267/267 [==============================] - 1s 3ms/step - loss: 0.3242 - accuracy: 0.0000e+00\n",
      "Epoch 88/100\n",
      "267/267 [==============================] - 1s 3ms/step - loss: 0.3244 - accuracy: 0.0000e+00\n",
      "Epoch 89/100\n",
      "267/267 [==============================] - 1s 3ms/step - loss: 0.3247 - accuracy: 0.0000e+00\n",
      "Epoch 90/100\n",
      "267/267 [==============================] - 1s 2ms/step - loss: 0.3241 - accuracy: 0.0000e+00\n",
      "Epoch 91/100\n",
      "267/267 [==============================] - 1s 2ms/step - loss: 0.3242 - accuracy: 0.0000e+00\n",
      "Epoch 92/100\n",
      "267/267 [==============================] - 1s 2ms/step - loss: 0.3246 - accuracy: 0.0000e+00\n",
      "Epoch 93/100\n",
      "267/267 [==============================] - 1s 2ms/step - loss: 0.3252 - accuracy: 0.0000e+00\n",
      "Epoch 94/100\n",
      "267/267 [==============================] - 1s 2ms/step - loss: 0.3243 - accuracy: 0.0000e+00\n",
      "Epoch 95/100\n",
      "267/267 [==============================] - 1s 2ms/step - loss: 0.3239 - accuracy: 0.0000e+00\n",
      "Epoch 96/100\n",
      "267/267 [==============================] - 1s 2ms/step - loss: 0.3236 - accuracy: 0.0000e+00\n",
      "Epoch 97/100\n",
      "267/267 [==============================] - 1s 2ms/step - loss: 0.3243 - accuracy: 0.0000e+00\n",
      "Epoch 98/100\n",
      "267/267 [==============================] - 1s 2ms/step - loss: 0.3245 - accuracy: 0.0000e+00\n",
      "Epoch 99/100\n",
      "267/267 [==============================] - 1s 2ms/step - loss: 0.3237 - accuracy: 0.0000e+00\n",
      "Epoch 100/100\n",
      "267/267 [==============================] - 1s 2ms/step - loss: 0.3239 - accuracy: 0.0000e+00\n"
     ]
    },
    {
     "data": {
      "text/plain": [
       "<tensorflow.python.keras.callbacks.History at 0x182f7bb8b48>"
      ]
     },
     "execution_count": 97,
     "metadata": {},
     "output_type": "execute_result"
    }
   ],
   "source": [
    "ann.fit (X_train, y_train, batch_size=30, epochs=100)"
   ]
  },
  {
   "cell_type": "code",
   "execution_count": 106,
   "metadata": {},
   "outputs": [],
   "source": [
    "#Test"
   ]
  },
  {
   "cell_type": "code",
   "execution_count": 107,
   "metadata": {},
   "outputs": [
    {
     "name": "stdout",
     "output_type": "stream",
     "text": [
      "[[False]]\n"
     ]
    }
   ],
   "source": [
    "print (ann.predict(sc.transform([[1,0, 0, 600, 1, 40, 3, 60000, 2, 1, 1, 50000 ]])) > 0.5)"
   ]
  },
  {
   "cell_type": "code",
   "execution_count": 108,
   "metadata": {},
   "outputs": [],
   "source": [
    "#predict the test result"
   ]
  },
  {
   "cell_type": "code",
   "execution_count": 109,
   "metadata": {},
   "outputs": [
    {
     "name": "stdout",
     "output_type": "stream",
     "text": [
      "[[0 0]\n",
      " [0 1]\n",
      " [0 0]\n",
      " ...\n",
      " [0 0]\n",
      " [0 0]\n",
      " [0 0]]\n"
     ]
    }
   ],
   "source": [
    "#Predicting the test results\n",
    "\n",
    "y_pred = ann.predict(X_test)\n",
    "y_pred = (y_pred > 0.5)\n",
    "print(np.concatenate((y_pred.reshape(len(y_pred),1), y_test.reshape(len(y_test),1)),1))"
   ]
  },
  {
   "cell_type": "code",
   "execution_count": 110,
   "metadata": {},
   "outputs": [
    {
     "name": "stdout",
     "output_type": "stream",
     "text": [
      "[[1528   67]\n",
      " [ 197  208]]\n"
     ]
    },
    {
     "data": {
      "text/plain": [
       "0.868"
      ]
     },
     "execution_count": 110,
     "metadata": {},
     "output_type": "execute_result"
    }
   ],
   "source": [
    "#Making a Confusion Matrix\n",
    "from sklearn.metrics import confusion_matrix, accuracy_score\n",
    "cm = confusion_matrix(y_test, y_pred)\n",
    "print(cm)\n",
    "accuracy_score(y_test, y_pred)"
   ]
  },
  {
   "cell_type": "code",
   "execution_count": null,
   "metadata": {},
   "outputs": [],
   "source": []
  }
 ],
 "metadata": {
  "kernelspec": {
   "display_name": "Python 3",
   "language": "python",
   "name": "python3"
  },
  "language_info": {
   "codemirror_mode": {
    "name": "ipython",
    "version": 3
   },
   "file_extension": ".py",
   "mimetype": "text/x-python",
   "name": "python",
   "nbconvert_exporter": "python",
   "pygments_lexer": "ipython3",
   "version": "3.7.6"
  }
 },
 "nbformat": 4,
 "nbformat_minor": 4
}
